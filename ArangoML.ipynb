{
  "nbformat": 4,
  "nbformat_minor": 0,
  "metadata": {
    "colab": {
      "name": "ArangoML.ipynb",
      "provenance": [],
      "collapsed_sections": [],
      "toc_visible": true,
      "mount_file_id": "1QPWS7Qe8UejMet2ONo0UEvF23RuzahSK",
      "authorship_tag": "ABX9TyODd6eRXZ7kAgTAtB4eOcTD",
      "include_colab_link": true
    },
    "kernelspec": {
      "display_name": "Python 3",
      "name": "python3"
    },
    "language_info": {
      "name": "python"
    }
  },
  "cells": [
    {
      "cell_type": "markdown",
      "metadata": {
        "id": "view-in-github",
        "colab_type": "text"
      },
      "source": [
        "<a href=\"https://colab.research.google.com/github/luca02fioravanti/GRAPH-AI/blob/main/ArangoML.ipynb\" target=\"_parent\"><img src=\"https://colab.research.google.com/assets/colab-badge.svg\" alt=\"Open In Colab\"/></a>"
      ]
    },
    {
      "cell_type": "markdown",
      "metadata": {
        "id": "Ce5mU28AkD_s"
      },
      "source": [
        "#**ArangoML**\n",
        "\n",
        "Managing machine learning pipelines is challenging as new data arrive and new models are built it is important to have a platform where you can keep track of your `metadata`.\n",
        "\n",
        "<blockquote>\n",
        "Metadata describes the components and actions involved in building the machine learning pipeline.\n",
        "</blockquote>\n",
        "\n",
        "**Arangopipe** offers a solution to that.\n",
        "\n",
        "\n",
        "In this notebook we are going to show how machine learning and ArangoDB can work together by creating a knowledge graph and providing missing information using a machine learning model that will be stored with *arangopipe* in ArangoDB."
      ]
    },
    {
      "cell_type": "markdown",
      "metadata": {
        "id": "8TVGUxBvitZ7"
      },
      "source": [
        "##**Loading dataset**"
      ]
    },
    {
      "cell_type": "markdown",
      "metadata": {
        "id": "XfZDc1j3khem"
      },
      "source": [
        "\n",
        "We chose a book dataset to show our analysis.\n",
        "\n",
        "The dataset is available on [Kaggle](https://www.kaggle.com/meetnaren/goodreads-best-books)."
      ]
    },
    {
      "cell_type": "code",
      "metadata": {
        "id": "yVQQDy29iZtt"
      },
      "source": [
        "%%capture\n",
        "!pip install python-arango\n",
        "!pip install arangopipe==0.0.6.9.3\n",
        "!pip install pandas PyYAML==5.1.1 sklearn2\n",
        "!pip install jsonpickle\n",
        "!pip install langdetect\n",
        "\n",
        "import pandas as pd\n",
        "\n",
        "books = pd.read_csv(\"https://github.com/luca02fioravanti/GRAPH-AI/blob/main/books.csv?raw=true\")"
      ],
      "execution_count": null,
      "outputs": []
    },
    {
      "cell_type": "markdown",
      "metadata": {
        "id": "O7AXAjjm2C82"
      },
      "source": [
        "The dataset is composed of several columns that describe a book such as: \"**book_title**\", \"**book_desc**\", \"**genres**\"."
      ]
    },
    {
      "cell_type": "code",
      "metadata": {
        "id": "5OKQ9xKt1KwN"
      },
      "source": [
        "books.sample(5)"
      ],
      "execution_count": null,
      "outputs": []
    },
    {
      "cell_type": "markdown",
      "metadata": {
        "id": "ejdGec4U29u7"
      },
      "source": [
        "After loading the dataset we are going to create our **arangopipe** project using its cloud that will give us a temporary database to work with."
      ]
    },
    {
      "cell_type": "code",
      "metadata": {
        "id": "IMv183W328Ny"
      },
      "source": [
        "%%capture\n",
        "from arangopipe.arangopipe_storage.arangopipe_api import ArangoPipe\n",
        "from arangopipe.arangopipe_storage.arangopipe_admin_api import ArangoPipeAdmin\n",
        "from arangopipe.arangopipe_storage.arangopipe_config import ArangoPipeConfig\n",
        "from arangopipe.arangopipe_storage.managed_service_conn_parameters import ManagedServiceConnParam\n",
        "mdb_config = ArangoPipeConfig()\n",
        "msc = ManagedServiceConnParam()\n",
        "conn_params = { msc.DB_SERVICE_HOST : \"arangoml.arangodb.cloud\", \\\n",
        "                        msc.DB_SERVICE_END_POINT : \"createDB\",\\\n",
        "                        msc.DB_SERVICE_NAME : \"createDB\",\\\n",
        "                        msc.DB_SERVICE_PORT : 8529,\\\n",
        "                        msc.DB_CONN_PROTOCOL : 'https'}\n",
        "        \n",
        "mdb_config = mdb_config.create_connection_config(conn_params)\n",
        "admin = ArangoPipeAdmin(reuse_connection = False, config = mdb_config)\n",
        "ap_config = admin.get_config()\n",
        "ap = ArangoPipe(config = ap_config)\n",
        "proj_info = {\"name\": \"Book_Genres_Prediction_Project\"}\n",
        "proj_reg = admin.register_project(proj_info)"
      ],
      "execution_count": null,
      "outputs": []
    },
    {
      "cell_type": "markdown",
      "metadata": {
        "id": "V2yDbSpu3z3B"
      },
      "source": [
        "We created a project named \"Book_Genres_Prediction_Project\".\n",
        "\n",
        "We can access the cloud database by using its credentials that we store on a variable."
      ]
    },
    {
      "cell_type": "code",
      "metadata": {
        "id": "Vh73_RWn4ZB2"
      },
      "source": [
        "connection = mdb_config.get_cfg()\n",
        "print(\"URL: \", \"https://arangoml.arangodb.cloud:8529\", \"\\nUsername: \", connection[\"arangodb\"][\"username\"], \"\\nPassword: \", connection[\"arangodb\"][\"password\"])"
      ],
      "execution_count": null,
      "outputs": []
    },
    {
      "cell_type": "markdown",
      "metadata": {
        "id": "58g8wO5DkvFt"
      },
      "source": [
        "## **Pre-processing**"
      ]
    },
    {
      "cell_type": "markdown",
      "metadata": {
        "id": "qT2qPKh0k1Iv"
      },
      "source": [
        "Before importing this dataset to ArangoDB we are going to drop those rows that are not useful for our analysis.\n",
        "\n",
        "The dataset contains `54,301` books written in different languages. \n",
        "\n",
        "For the purpose of our computation we are going to drop those books that do not have descriptions as well as those not written in English."
      ]
    },
    {
      "cell_type": "code",
      "metadata": {
        "id": "qp2FYq-NlpGg"
      },
      "source": [
        "# Estimated time: ~7m\n",
        "\n",
        "from langdetect import detect\n",
        "from tqdm import tqdm\n",
        "tqdm.pandas()\n",
        "\n",
        "# This function checks each description to check \n",
        "# that is written in English otherwise it removes the row.\n",
        "def remove_non_english_row(df):\n",
        "    for i in tqdm(df.index):\n",
        "        try:\n",
        "            lang = detect(df.at[i, 'book_desc'])\n",
        "            if lang != 'en':\n",
        "                df.drop(index=i, inplace=True)\n",
        "        except:\n",
        "            df.drop(index=i, inplace=True)\n",
        "\n",
        "# Removes rows that have empty descriptions\n",
        "books.dropna(subset=[\"book_desc\"], inplace=True) \n",
        "remove_non_english_row(books)"
      ],
      "execution_count": null,
      "outputs": []
    },
    {
      "cell_type": "markdown",
      "metadata": {
        "id": "8ByExvk2uFM1"
      },
      "source": [
        "## **Import on ArangoDB**\n",
        "\n",
        "So now after preprocessing our dataset we are ready to import it on ArangoDB created by the cloud.\n",
        "\n",
        "To do so we are going to use `python-arango` APIs."
      ]
    },
    {
      "cell_type": "code",
      "metadata": {
        "id": "LGyka9XE9QDm"
      },
      "source": [
        "from arango import ArangoClient\n",
        "from arango.http import DefaultHTTPClient\n",
        "from requests import Session\n",
        "from typing import MutableMapping, Optional, Tuple, Union\n",
        "from arango.response import Response\n",
        "from arango.typings import Headers\n",
        "from requests.adapters import HTTPAdapter\n",
        "from requests_toolbelt import MultipartEncoder\n",
        "from urllib3.util.retry import Retry\n",
        "\n",
        "def to_dict(df):\n",
        "    array = []\n",
        "    for o in df.to_dict('records'):\n",
        "        temp = {}\n",
        "        for k, v in o.items():\n",
        "            if not (v == None or type(v) == float and v != v):\n",
        "                temp[k] = v\n",
        "        array.append(temp)\n",
        "    return array\n",
        "\n",
        "def clean_db():\n",
        "  for i in db.collections():\n",
        "    try:\n",
        "      db.delete_collection(i[\"name\"])\n",
        "    except:\n",
        "      print(i[\"name\"])\n",
        "\n",
        "class ClientHTTP(DefaultHTTPClient):\n",
        "    def send_request(\n",
        "            self,\n",
        "            session: Session,\n",
        "            method: str,\n",
        "            url: str,\n",
        "            headers: Optional[Headers] = None,\n",
        "            params: Optional[MutableMapping[str, str]] = None,\n",
        "            data: Union[str, MultipartEncoder, None] = None,\n",
        "            auth: Optional[Tuple[str, str]] = None,\n",
        "    ) -> Response:\n",
        "        response = session.request(\n",
        "            method=method,\n",
        "            url=url,\n",
        "            params=params,\n",
        "            data=data,\n",
        "            headers=headers,\n",
        "            auth=auth,\n",
        "            timeout=3600,\n",
        "        )\n",
        "        return Response(\n",
        "            method=method,\n",
        "            url=response.url,\n",
        "            headers=response.headers,\n",
        "            status_code=response.status_code,\n",
        "            status_text=response.reason,\n",
        "            raw_body=response.text,\n",
        "        )\n",
        "\n",
        "\n",
        "client = ArangoClient(hosts=\"https://arangoml.arangodb.cloud:8529\", http_client=ClientHTTP())\n",
        "db = client.db(connection[\"arangodb\"][\"dbName\"], username=connection[\"arangodb\"][\"username\"], password=connection[\"arangodb\"][\"password\"])"
      ],
      "execution_count": null,
      "outputs": []
    },
    {
      "cell_type": "markdown",
      "metadata": {
        "id": "m6PEi86_udw9"
      },
      "source": [
        "### **DataFrame import**\n",
        "\n",
        "This command will:\n",
        "\n",
        "1.   Create the raw document collection\n",
        "2.   Import the data on the collection\n",
        "\n"
      ]
    },
    {
      "cell_type": "code",
      "metadata": {
        "id": "AGXN67nWBoD1"
      },
      "source": [
        "raw = db.create_collection(\"raw\")\n",
        "raw.import_bulk(to_dict(books))"
      ],
      "execution_count": null,
      "outputs": []
    },
    {
      "cell_type": "markdown",
      "metadata": {
        "id": "SYLBWd2QSSRE"
      },
      "source": [
        "### **Document collections creation**\n",
        "\n",
        "Before diving into the collections creation we register the dataset metadata that will define some information about it."
      ]
    },
    {
      "cell_type": "code",
      "metadata": {
        "id": "SpfWCCbwRPmg"
      },
      "source": [
        "ds_info = {\"name\" : \"books\",\\\n",
        "            \"description\": \"This dataset contains rows of books with title, description, genres, ratings and other values\",\\\n",
        "           \"source\": \"https://www.kaggle.com/meetnaren/goodreads-best-books\" }\n",
        "ds_reg = ap.register_dataset(ds_info)"
      ],
      "execution_count": null,
      "outputs": []
    },
    {
      "cell_type": "markdown",
      "metadata": {
        "id": "KQaTTk2EBjVQ"
      },
      "source": [
        "In order to create the knowledge graph we are going to split row data into the following document collections:"
      ]
    },
    {
      "cell_type": "markdown",
      "metadata": {
        "id": "ESICaHKXPQ8q"
      },
      "source": [
        "#### **Book**"
      ]
    },
    {
      "cell_type": "code",
      "metadata": {
        "id": "gAQBwaOVPMmO"
      },
      "source": [
        "db.create_collection(\"book\")\n",
        "\n",
        "cursor = db.aql.execute(r\"\"\"\n",
        "for r in raw\n",
        "    insert {\n",
        "    \"_key\": r._key,\n",
        "    \"name\": r.book_title,\n",
        "    \"plot\": r.book_desc,\n",
        "    \"pages\": r.book_pages,\n",
        "    \"isbn\": r.book_isbn \n",
        "    } into book return NEW\"\"\")\n",
        "# \"\"\"\n",
        "\n",
        "while cursor.has_more():\n",
        "    cursor.fetch()\n",
        "\n",
        "array = []\n",
        "for i in cursor.batch():\n",
        "  array.append(i[\"_key\"])\n",
        "books[\"_key\"] = array "
      ],
      "execution_count": null,
      "outputs": []
    },
    {
      "cell_type": "markdown",
      "metadata": {
        "id": "_FFIejFzR3Qi"
      },
      "source": [
        "#### **Author**"
      ]
    },
    {
      "cell_type": "code",
      "metadata": {
        "id": "xi6eAfcgR9VU"
      },
      "source": [
        "db.create_collection(\"author\")\n",
        "\n",
        "db.aql.execute(r\"\"\"\n",
        "let authors = (\n",
        "    for r in raw\n",
        "        for i in split(r.book_authors, \"|\")\n",
        "            return distinct trim(i)\n",
        ")\n",
        " \n",
        "for a in authors\n",
        "    insert {\"name\": a} into author\n",
        "\"\"\")"
      ],
      "execution_count": null,
      "outputs": []
    },
    {
      "cell_type": "markdown",
      "metadata": {
        "id": "A17xYH37RPln"
      },
      "source": [
        "#### **Genre**"
      ]
    },
    {
      "cell_type": "code",
      "metadata": {
        "id": "Z7ae7D8XRPma"
      },
      "source": [
        "db.create_collection(\"genre\")\n",
        "\n",
        "db.aql.execute(r\"\"\"let genres = (\n",
        "    for r in raw\n",
        "        for i in split(r.genres, \"|\")\n",
        "            return distinct trim(i)\n",
        ")\n",
        "\n",
        "for g in genres\n",
        "    filter g != ''\n",
        "    insert {\"name\": g} into genre\"\"\")"
      ],
      "execution_count": null,
      "outputs": []
    },
    {
      "cell_type": "markdown",
      "metadata": {
        "id": "E-uYTXvdSntN"
      },
      "source": [
        "### **Edge collection creation**"
      ]
    },
    {
      "cell_type": "markdown",
      "metadata": {
        "id": "tS2rUHfHRPme"
      },
      "source": [
        "Onced defined the document collections we need an edge collection that stores relations between document collections.\n",
        "\n",
        "In this example a \"conn\" edge collection is created and the following relations are added:"
      ]
    },
    {
      "cell_type": "code",
      "metadata": {
        "id": "o_hLicYaSw4g"
      },
      "source": [
        "db.create_collection(\"conn\", edge=True)"
      ],
      "execution_count": null,
      "outputs": []
    },
    {
      "cell_type": "markdown",
      "metadata": {
        "id": "4x7x2Ee4S-RM"
      },
      "source": [
        "#### **Author wrote book relation**"
      ]
    },
    {
      "cell_type": "code",
      "metadata": {
        "id": "V2Wivuz-TDfI"
      },
      "source": [
        "# Estimated time: ~5m\n",
        "\n",
        "db.aql.execute(r\"\"\"\n",
        "let book_and_author = (for r in raw\n",
        "    let book_authors = (\n",
        "        for i in split(r.book_authors, \"|\")\n",
        "            return distinct trim(i)\n",
        "    )\n",
        "    for a in book_authors\n",
        "        return {\n",
        "          \"key\": r._key,\n",
        "          \"author\": a\n",
        "        }\n",
        ")\n",
        "\n",
        "let raw = (for a in book_and_author\n",
        "    collect autori = a.author into x\n",
        "    let keys = (\n",
        "        for i in x\n",
        "            return i.a.key\n",
        "    )\n",
        "    return {\n",
        "        \"author\": autori,\n",
        "        \"books\": keys\n",
        "    }\n",
        ")\n",
        "    \n",
        "    \n",
        "let author = (\n",
        "    for a in author\n",
        "        sort a.name\n",
        "        return a\n",
        ")\n",
        "    \n",
        "for i in 0..length(author)-1\n",
        "    for book in raw[i].books\n",
        "        let b = document(concat(\"book/\", book))\n",
        "        insert {\n",
        "        \"_from\": author[i]._id,\n",
        "        \"_to\": b._id,\n",
        "        \"label\": \"wrote\"\n",
        "        } into conn\n",
        "\"\"\")\n",
        "# \"\"\""
      ],
      "execution_count": null,
      "outputs": []
    },
    {
      "cell_type": "markdown",
      "metadata": {
        "id": "kuRZm_bETMJa"
      },
      "source": [
        "#### **Book has genre relation**"
      ]
    },
    {
      "cell_type": "code",
      "metadata": {
        "id": "k7f1Q0PSTQsw"
      },
      "source": [
        "# Estimated time: ~10m\n",
        "\n",
        "db.aql.execute(r\"\"\"\n",
        "let raw = (\n",
        "    for r in raw\n",
        "        filter r.genres != null\n",
        "        let genres = (for i in split(r.genres, \"|\")\n",
        "            return distinct trim(i)\n",
        "        )\n",
        "        for g in genres\n",
        "            return {\n",
        "              \"key\": r._key,\n",
        "              \"genre\": g\n",
        "            }\n",
        ")\n",
        "\n",
        "let pairs = (for r in raw\n",
        "    collect generi = r.genre into x\n",
        "    let pair = (\n",
        "            for i in x\n",
        "                return i.r.key\n",
        "        )\n",
        "    return {\n",
        "        \"genre\": generi,\n",
        "        \"books\": pair\n",
        "    }\n",
        ")\n",
        "    \n",
        "let genres = (\n",
        "    for g in genre\n",
        "        sort g.name\n",
        "        return g\n",
        ")\n",
        "\n",
        "\n",
        "for i in 0..length(genres)-1\n",
        "    for j in pairs[i].books\n",
        "        let b = document(concat(\"book/\", j))\n",
        "            insert {\n",
        "            \"_to\": genres[i]._id,\n",
        "            \"_from\": b._id,\n",
        "            \"label\": \"genre\"\n",
        "            } into conn\n",
        "\"\"\")\n",
        "# \"\"\""
      ],
      "execution_count": null,
      "outputs": []
    },
    {
      "cell_type": "markdown",
      "metadata": {
        "id": "Q36DYtse352I"
      },
      "source": [
        "### **Graph creation**\n",
        "\n",
        "After creating our nodes and edges we're going to define the graph."
      ]
    },
    {
      "cell_type": "code",
      "metadata": {
        "id": "xaOOSjfA39xg"
      },
      "source": [
        "graph = db.create_graph(\"graph\")\n",
        "graph.create_edge_definition(\n",
        "    edge_collection=\"conn\", \n",
        "    from_vertex_collections=[\"book\", \"author\"], \n",
        "    to_vertex_collections=[\"book\", \"genre\"]\n",
        ")"
      ],
      "execution_count": null,
      "outputs": []
    },
    {
      "cell_type": "markdown",
      "metadata": {
        "id": "vntGEhort0s2"
      },
      "source": [
        "![graph.png](data:image/png;base64,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)"
      ]
    },
    {
      "cell_type": "markdown",
      "metadata": {
        "id": "nkmVbMyQ0kps"
      },
      "source": [
        "## **Machine Learning**\n",
        "\n",
        "After creating our knowledge graph we know that not all the books have a genre.\n",
        "\n",
        "We're going to create a machine learning model that given a book description is able to predict its genre."
      ]
    },
    {
      "cell_type": "markdown",
      "metadata": {
        "id": "1sfNNDxC281O"
      },
      "source": [
        "### **Cleaning the dataset**\n",
        "\n",
        "The first thing we are going to do is creating a subset of books containing only those that have genres."
      ]
    },
    {
      "cell_type": "code",
      "metadata": {
        "id": "qp6hoJM71TjJ"
      },
      "source": [
        "new_books = books.dropna(subset=[\"genres\"]).copy()"
      ],
      "execution_count": null,
      "outputs": []
    },
    {
      "cell_type": "markdown",
      "metadata": {
        "id": "UjsagsBd5X4P"
      },
      "source": [
        "After that we are going to define the function for cleaning book descriptions from:\n",
        "\n",
        "\n",
        "1.   Whitespaces, apostrophes, numbers, symbols, etc;\n",
        "2.   Stopwords;\n",
        "\n"
      ]
    },
    {
      "cell_type": "code",
      "metadata": {
        "id": "qX9qQocH55hY"
      },
      "source": [
        "%%capture\n",
        "import nltk as nltk\n",
        "import re\n",
        "from nltk.corpus import stopwords\n",
        "\n",
        "nltk.download('stopwords')\n",
        "stop_words = set(stopwords.words('english'))\n",
        "\n",
        "def clean_text(text):\n",
        "    # remove backslash-apostrophe\n",
        "    text = re.sub(\"\\'\", \"\", text)\n",
        "    # remove everything except alphabets\n",
        "    text = re.sub(\"[^a-zA-Z]\", \" \", text)\n",
        "    # remove whitespaces\n",
        "    text = ' '.join(text.split())\n",
        "    # convert text to lowercase\n",
        "    text = text.lower()\n",
        "    # removes stopwords\n",
        "    no_stopwords_text = [w for w in text.split() if not w in stop_words]\n",
        "    return ' '.join(no_stopwords_text)"
      ],
      "execution_count": null,
      "outputs": []
    },
    {
      "cell_type": "markdown",
      "metadata": {
        "id": "zotTF-LJ7IBs"
      },
      "source": [
        "We're going to create a new column on our dataset that will contain the cleaned descriptions."
      ]
    },
    {
      "cell_type": "code",
      "metadata": {
        "id": "dIQVp3cw6HFj"
      },
      "source": [
        "new_books[\"clean_desc\"] = new_books[\"book_desc\"].progress_apply(lambda x: clean_text(x))"
      ],
      "execution_count": null,
      "outputs": []
    },
    {
      "cell_type": "markdown",
      "metadata": {
        "id": "igW2TuEm7Duh"
      },
      "source": [
        "Now that we have cleaned our book descriptions we need to rearrange book genres.\n",
        "\n",
        "The \"genres\" column, in fact, contains book genres separated by a \"|\" symbol. \n",
        "\n",
        "We are going to create a new column with genres arranged as arrays."
      ]
    },
    {
      "cell_type": "code",
      "metadata": {
        "id": "nxjBIUNw7CHY"
      },
      "source": [
        "new_books[\"genre_new\"] = new_books[\"genres\"].progress_apply(lambda x: x.split(\"|\"))"
      ],
      "execution_count": null,
      "outputs": []
    },
    {
      "cell_type": "markdown",
      "metadata": {
        "id": "H9Wd5a1j6pmp"
      },
      "source": [
        "After cleaning our dataset we save with **arangopipe** the set of feauture our model will be working on."
      ]
    },
    {
      "cell_type": "code",
      "metadata": {
        "id": "N8KwVxZO6JRw"
      },
      "source": [
        "featureset = new_books[[\"clean_desc\"]].dtypes.to_dict()\n",
        "featureset = {k:str(featureset[k]) for k in featureset}\n",
        "featureset[\"name\"] = \"array of descriptions\"\n",
        "fs_reg = ap.register_featureset(featureset, ds_reg[\"_key\"])"
      ],
      "execution_count": null,
      "outputs": []
    },
    {
      "cell_type": "markdown",
      "metadata": {
        "id": "Wx1oxzdH8I1E"
      },
      "source": [
        "### **Model definition**\n",
        "\n",
        "Now its time to define, create and train the model."
      ]
    },
    {
      "cell_type": "code",
      "metadata": {
        "id": "nthySl348cFN"
      },
      "source": [
        "# Estimated time: ~6\n",
        "\n",
        "%%capture\n",
        "from sklearn.feature_extraction.text import TfidfVectorizer\n",
        "from sklearn.model_selection import train_test_split\n",
        "from sklearn.preprocessing import MultiLabelBinarizer\n",
        "from sklearn.linear_model import LogisticRegression\n",
        "from sklearn.multiclass import OneVsRestClassifier\n",
        "from sklearn.metrics import f1_score\n",
        "\n",
        "multilabel_binarizer = MultiLabelBinarizer()\n",
        "multilabel_binarizer.fit(new_books['genre_new'])\n",
        "\n",
        "y = multilabel_binarizer.transform(new_books['genre_new'])\n",
        "x = new_books['clean_desc']\n",
        "\n",
        "tfidf_vectorizer = TfidfVectorizer(max_df=0.8, max_features=10000)\n",
        "\n",
        "xtrain, xval, ytrain, yval = train_test_split(x, y, test_size=0.2, random_state=9)\n",
        "xtrain_tfidf = tfidf_vectorizer.fit_transform(xtrain)\n",
        "xval_tfidf = tfidf_vectorizer.transform(xval)\n",
        "lr = LogisticRegression()\n",
        "clf = OneVsRestClassifier(lr)\n",
        "clf.fit(xtrain_tfidf, ytrain)\n",
        "y_pred = clf.predict(xval_tfidf)\n"
      ],
      "execution_count": null,
      "outputs": []
    },
    {
      "cell_type": "markdown",
      "metadata": {
        "id": "GOz8iVSry1Jb"
      },
      "source": [
        "Once defined and trained the model with the books, we define the function that given a description is able to predict genres."
      ]
    },
    {
      "cell_type": "code",
      "metadata": {
        "id": "dHa2_nzL8qsU"
      },
      "source": [
        "def infer_genres(description):\n",
        "    description = clean_text(description)\n",
        "    description_vec = tfidf_vectorizer.transform([description])\n",
        "    description_pred = clf.predict(description_vec)\n",
        "    return multilabel_binarizer.inverse_transform(description_pred)"
      ],
      "execution_count": null,
      "outputs": []
    },
    {
      "cell_type": "markdown",
      "metadata": {
        "id": "prtUcp3dy_lf"
      },
      "source": [
        "We split from the original dataset those rows that did not have genres and we create another dataset.\n",
        "\n",
        "After that we iterate over the new dataset and we feed each description to the model that will return a set of predicted genres that we put into the \"genres\" column."
      ]
    },
    {
      "cell_type": "code",
      "metadata": {
        "id": "UMF1yNoZ8zdx"
      },
      "source": [
        "# Estimated time: ~3m\n",
        "\n",
        "missing = books[books.genres.isna()].copy()\n",
        "missing[\"genres\"] = missing[\"book_desc\"].progress_apply(lambda x: \"|\".join(infer_genres(x)[0]))"
      ],
      "execution_count": null,
      "outputs": []
    },
    {
      "cell_type": "code",
      "metadata": {
        "id": "hyHuNxN2rNGE"
      },
      "source": [
        "new = missing.drop(index=missing[missing.genres == ''].index).copy()\n",
        "new.sample(5)"
      ],
      "execution_count": null,
      "outputs": []
    },
    {
      "cell_type": "markdown",
      "metadata": {
        "id": "KfjVSLaj1-3j"
      },
      "source": [
        "## **Updating ArangoDB**\n",
        "\n",
        "Now we're ready to import the new genres to ArangoDB so that we can improve our knowledge graph."
      ]
    },
    {
      "cell_type": "code",
      "metadata": {
        "id": "uPgGCqeT-54A"
      },
      "source": [
        "raw1 = db.create_collection(\"raw1\")\n",
        "raw1.import_bulk(to_dict(new))"
      ],
      "execution_count": null,
      "outputs": []
    },
    {
      "cell_type": "markdown",
      "metadata": {
        "id": "81exx601_U-5"
      },
      "source": [
        "After importing our new dataset, we're going to add new edges to our graph by executing the following query:"
      ]
    },
    {
      "cell_type": "code",
      "metadata": {
        "id": "eW0mn5mv_bo6"
      },
      "source": [
        "db.aql.execute(r\"\"\"\n",
        "let genres = (\n",
        "    for j in raw1\n",
        "        let gx = (for x in split(j.genres, \"|\")\n",
        "            return distinct trim(x)\n",
        "        )\n",
        "        for g in gx\n",
        "            return {\n",
        "              \"key\": j._key,\n",
        "              \"genre\": g\n",
        "            }\n",
        ")\n",
        " \n",
        " \n",
        "let raw = (\n",
        "    for g in genres\n",
        "        collect generi = g.genre into x\n",
        "        let keys = (\n",
        "            for i in x\n",
        "                return i.g.key\n",
        "        )\n",
        "        return {\n",
        "            \"genre\": generi,\n",
        "            \"books\": keys\n",
        "        }\n",
        ")\n",
        " \n",
        "for j in genre\n",
        "    for i in raw\n",
        "        filter j.name == i.genre\n",
        "        for x in i.books\n",
        "            let b = document(concat(\"book/\", x))\n",
        "            insert {\n",
        "            \"_to\": j._id,\n",
        "            \"_from\": b._id,\n",
        "            \"label\": \"genre\"\n",
        "            } into conn\n",
        "\"\"\")\n",
        "# \"\"\""
      ],
      "execution_count": null,
      "outputs": []
    },
    {
      "cell_type": "markdown",
      "metadata": {
        "id": "72i1telO_0fo"
      },
      "source": [
        "Finally we upload the metadata of our project by adding:\n",
        "\n",
        "\n",
        "1.   Model name\n",
        "2.   Model type\n",
        "3.   Reference to the notebook where we created the model\n",
        "4.   Model performance\n",
        "\n"
      ]
    },
    {
      "cell_type": "code",
      "metadata": {
        "id": "CIBzeHDmvJMc"
      },
      "source": [
        "import io\n",
        "import requests\n",
        "url = ('https://raw.githubusercontent.com/luca02fioravanti/GRAPH-AI/main/ArangoML.ipynb')\n",
        "nbjson = requests.get(url).text\n",
        "\n",
        "model_info = {\"name\": \"Model to predict genres by plot\",  \"task\": \"Regression\", 'notebook': nbjson}\n",
        "model_reg = ap.register_model(model_info, project = proj_info[\"name\"])"
      ],
      "execution_count": null,
      "outputs": []
    },
    {
      "cell_type": "code",
      "metadata": {
        "id": "eDDMVhgG_wec"
      },
      "source": [
        "import uuid\n",
        "import datetime\n",
        "import jsonpickle\n",
        "\n",
        "ruuid = str(uuid.uuid4().int)\n",
        "#\n",
        "model_perf = {'run_id': ruuid, 'performance': f1_score(yval, y_pred, average=\"micro\"),  \"timestamp\": str(datetime.datetime.now())}\n",
        "\n",
        "mp = clf.get_params()\n",
        "mp = jsonpickle.encode(mp)\n",
        "model_params = {'run_id': ruuid, 'model_params': mp}\n",
        "\n",
        "run_info = {\"dataset\" : ds_reg[\"_key\"],\\\n",
        "                    \"featureset\": fs_reg[\"_key\"],\\\n",
        "                    \"run_id\": ruuid,\\\n",
        "                    \"model\": model_reg[\"_key\"],\\\n",
        "                    \"model-params\": model_params,\\\n",
        "                    \"model-perf\": model_perf,\\\n",
        "                    \"tag\": \"Book genre project\",\\\n",
        "                    \"project\": \"Book genre project\"}\n",
        "ap.log_run(run_info)\n"
      ],
      "execution_count": null,
      "outputs": []
    },
    {
      "cell_type": "markdown",
      "metadata": {
        "id": "qJUqzvjEvtn8"
      },
      "source": [
        "Now if we take a look at the ArangoDB web interface, under the graph tab, we can observe that arangopipe has created a new graph called \"**enterprise_ml_graph**\" where all the information defined with arangopipe, stored on collections by the system, have been connected in a graph.\n",
        "\n",
        "\n",
        "![graph1.png](data:image/png;base64,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)"
      ]
    },
    {
      "cell_type": "markdown",
      "metadata": {
        "id": "wcLBrke7xWaI"
      },
      "source": [
        "**ArangoPipe** has created 6 collections:\n",
        "\n",
        "1.   A collection where it stores a description to the dataset and its source.\n",
        "2.   A collection where it stores the feature set type and its name.\n",
        "3.   A collection where it stores a description to the model and its code (notebook).\n",
        "4.   A collection where it stores an instance of the model with its parameters.\n",
        "5.   And two collection where it stores the performance of the instance of model and the timestamp when it was created.\n",
        "\n"
      ]
    }
  ]
}